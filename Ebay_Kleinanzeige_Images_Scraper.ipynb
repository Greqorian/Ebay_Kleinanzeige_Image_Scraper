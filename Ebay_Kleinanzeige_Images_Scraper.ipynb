{
  "nbformat": 4,
  "nbformat_minor": 0,
  "metadata": {
    "colab": {
      "name": "Ebay_Kleinanzeige_Images_Scraper.ipynb",
      "provenance": [],
      "collapsed_sections": [],
      "include_colab_link": true
    },
    "kernelspec": {
      "name": "python3",
      "display_name": "Python 3"
    },
    "language_info": {
      "name": "python"
    }
  },
  "cells": [
    {
      "cell_type": "markdown",
      "metadata": {
        "id": "view-in-github",
        "colab_type": "text"
      },
      "source": [
        "<a href=\"https://colab.research.google.com/github/Greqorian/Ebay_Kleinanzeige_Image_Scraper/blob/main/Ebay_Kleinanzeige_Images_Scraper.ipynb\" target=\"_parent\"><img src=\"https://colab.research.google.com/assets/colab-badge.svg\" alt=\"Open In Colab\"/></a>"
      ]
    },
    {
      "cell_type": "markdown",
      "source": [
        "# Ebay Kleinanzeige Image Scraper  \n",
        "### Python script to retrieve images from the ebay kleinanzeige webseite\n",
        "---\n",
        "If you want to collect images of IKEA products from Ebay Kleinazeige, first create an ikeaRangeListJson by following the steps 1.1 to 2.4 in this project:\n",
        "https://github.com/Greqorian/IKEAcom_Image_Scraper\n",
        "<br/> However, you can scrap pictures of any items you like, just provide your own product list in step 3.2\n",
        "\n",
        "Scraping images from the Ebay Kleinanzeige Service is done in 3 steps:"
      ],
      "metadata": {
        "id": "w9oggbVhlr0T"
      }
    },
    {
      "cell_type": "markdown",
      "source": [
        "# 1. Libraries and constants definition"
      ],
      "metadata": {
        "id": "PU6DSn1qz_7y"
      }
    },
    {
      "cell_type": "markdown",
      "source": [
        "1.1 Import libraries"
      ],
      "metadata": {
        "id": "PE0Ole7i0MrY"
      }
    },
    {
      "cell_type": "code",
      "metadata": {
        "id": "nm3u0Yk_Xcpw"
      },
      "source": [
        "# package imports\n",
        "#basics\n",
        "import numpy as np # linear algebra\n",
        "import pandas as pd # data processing, CSV file I/O (e.g. pd.read_csv)\n",
        "import os\n",
        "import json # json files\n",
        "\n",
        "#scrapping\n",
        "from bs4 import BeautifulSoup\n",
        "import requests\n",
        "from datetime import datetime\n",
        "import time\n"
      ],
      "execution_count": null,
      "outputs": []
    },
    {
      "cell_type": "markdown",
      "source": [
        "1.2 Define headers to be visible as the Google Bot.\n",
        "<br/> to not to get blocket by Ebay"
      ],
      "metadata": {
        "id": "pRtILXhi0PwQ"
      }
    },
    {
      "cell_type": "code",
      "source": [
        "# Set up the headers of the request (User-Agent) as Google boot. Otherwise Ebay-Kleinanzeigen blocks requests.\n",
        "headers = {\n",
        "      'User-Agent': 'Mozilla/5.0 (compatible; Googlebot/2.1; +http://www.google.com/bot.html)',\n",
        "  }"
      ],
      "metadata": {
        "id": "-4W1hQQDqR6f"
      },
      "execution_count": null,
      "outputs": []
    },
    {
      "cell_type": "markdown",
      "source": [
        "1.3 Mount storage"
      ],
      "metadata": {
        "id": "lKEFhqWa0XAp"
      }
    },
    {
      "cell_type": "code",
      "metadata": {
        "id": "KglQJl51znCl"
      },
      "source": [
        "from google.colab import drive\n",
        "drive.mount('/content/drive')"
      ],
      "execution_count": null,
      "outputs": []
    },
    {
      "cell_type": "markdown",
      "source": [
        "# 2. Function definition "
      ],
      "metadata": {
        "id": "M6GDPpO0aghu"
      }
    },
    {
      "cell_type": "markdown",
      "source": [
        "2.1 Create BeautifulSoup instance"
      ],
      "metadata": {
        "id": "_DTSIiGNrjxv"
      }
    },
    {
      "cell_type": "code",
      "source": [
        "# gets BeautifulSoup instance from url request\n",
        "# param url: (string) url adress of the website\n",
        "def getSoupFromUtl(url):\n",
        "  \n",
        "  # saves HTML of the webpage to the variable\n",
        "  response = requests.get(url, headers=headers)\n",
        "\n",
        "  # saves the content of the page\n",
        "  page = response.content\n",
        "\n",
        "  # creates an instance of BeautifulSoup with webpage content\n",
        "  soup = BeautifulSoup(page, \"html.parser\")\n",
        "\n",
        "  return soup"
      ],
      "metadata": {
        "id": "f-XKIYhZfBl0"
      },
      "execution_count": null,
      "outputs": []
    },
    {
      "cell_type": "markdown",
      "source": [
        "2.2 Creates a list of URL adresses in Ebay Kleinanzeige service of one item"
      ],
      "metadata": {
        "id": "Yq1AZXXArvfx"
      }
    },
    {
      "cell_type": "code",
      "source": [
        "# returns the list ofi items url adress pages from kleineanzeige search\n",
        "# param itemName: (string) name of the item to search \n",
        "\n",
        "def getItemsUlrsList(itemName):\n",
        "\n",
        "  # creates a query of the search in ebay kleineanzeige\n",
        "  query = \"Ikea-\" + itemName\n",
        "\n",
        "  # add the Query to Ebay-Kleinanzeigen URL\n",
        "  URL = \"https://www.ebay-kleinanzeigen.de/s-\" + query + \"/k0\"\n",
        "\n",
        "  # gets BeautifulSoup instance from url request\n",
        "  soup = getSoupFromUtl(URL)\n",
        "\n",
        "  # selects a div element with id\n",
        "  srchRsltsContent = soup.find(\"div\", id=\"srchrslt-content\")\n",
        "\n",
        "  # selects all links from selected div\n",
        "  srchRslts = srchRsltsContent.find_all('a', href=True)\n",
        "\n",
        "  itemPagesUrls = []\n",
        "\n",
        "  # save a list of subpages URLs\n",
        "  for a in srchRslts:\n",
        "      \n",
        "      if '/s-anzeige' in a['href']:\n",
        "        itemPagesUrls.append('https://www.ebay-kleinanzeigen.de' + a['href'])\n",
        "\n",
        "  return itemPagesUrls\n"
      ],
      "metadata": {
        "id": "JomNteEtWQmL"
      },
      "execution_count": null,
      "outputs": []
    },
    {
      "cell_type": "markdown",
      "source": [
        "2.3 Create a list of images sources"
      ],
      "metadata": {
        "id": "9-_7fkZot3Yt"
      }
    },
    {
      "cell_type": "code",
      "source": [
        "# returns a list of sources for all item images\n",
        "# param itemPagesUrls ( [string] array ) list of items urls\n",
        "def getItemsImagesSrcList(itemPagesUrls):\n",
        "\n",
        "  imagesSrcList = []\n",
        "\n",
        "  for URL in itemPagesUrls:\n",
        "    \n",
        "    # gets BeautifulSoup instance from url request\n",
        "    soupForSubPage = getSoupFromUtl(URL)\n",
        "\n",
        "    srchRslts2 = soupForSubPage.find_all(\"div\", {\"class\": \"galleryimage-element\"})\n",
        "\n",
        "    # search for images adresses \n",
        "    for tag in srchRslts2:\n",
        "      image = tag.find(\"img\")\n",
        "      if hasattr(image, 'src'):\n",
        "        imagesSrcList.append(image['src'])\n",
        "\n",
        "  return imagesSrcList\n"
      ],
      "metadata": {
        "id": "UrqD9wk4PGNZ"
      },
      "execution_count": null,
      "outputs": []
    },
    {
      "cell_type": "markdown",
      "source": [
        "# 3. Execution"
      ],
      "metadata": {
        "id": "1WUXwyBnz_fL"
      }
    },
    {
      "cell_type": "markdown",
      "source": [
        "3.1 Open a list of items\n",
        "<br/>The list must contain id, name and ulr of the products\n",
        "<br/> If you want to get list of Ikea products follow steps 1.1 to 2.4 in this project: https://github.com/Greqorian/IKEAcom_Image_Scraper"
      ],
      "metadata": {
        "id": "hhno6NV38tCA"
      }
    },
    {
      "cell_type": "code",
      "metadata": {
        "id": "q8av1iasF2hE"
      },
      "source": [
        "# Opening JSON file\n",
        "f = open('/content/drive/MyDrive/DATA/furnitureImages/1000-furniture/ikeaRangeList.json', \"r\")\n",
        "# a dictionary\n",
        "ikeaRangeListJson = json.load(f)\n",
        "\n",
        "print(len(ikeaRangeListJson))"
      ],
      "execution_count": null,
      "outputs": []
    },
    {
      "cell_type": "markdown",
      "source": [
        "3.2 Create a list of ebay items based of the list of items names\n",
        "\n",
        "INPUT: This loop takes as input the list of products in the form of:\n",
        "\n",
        "> ikeaRangeListJson[] = [ {\n",
        "  <br/> id: string\n",
        "  <br/> name: string\n",
        "  <br/> url: string\n",
        "<br/> } ]\n",
        "\n",
        "RESULT: This loop fills the new list with item id, name and list of urls as follows:\n",
        "\n",
        "> itemsList[] = [ {\n",
        "  <br/> id: string\n",
        "  <br/> name: string\n",
        "  <br/> urls: string[]\n",
        "  <br/> imgSrcs: string[]\n",
        "<br/> } ]\n",
        "\n",
        "\n",
        "\n"
      ],
      "metadata": {
        "id": "NTJi007Olqgn"
      }
    },
    {
      "cell_type": "code",
      "source": [
        "itemsList = []\n",
        "\n",
        "for item in ikeaRangeListJson:\n",
        "  itemsList.append({'id': item['id'], 'name': item['name'], 'urls': getItemsUlrsList(item['name']), 'imgSrcs': []}"
      ],
      "metadata": {
        "id": "bU1OZfHlEkO3"
      },
      "execution_count": null,
      "outputs": []
    },
    {
      "cell_type": "markdown",
      "source": [
        "3.3 Fill list itemsList with images urls from Ebay Kleinanzeige\n",
        "\n",
        "RESULT: This loop fills the itemsList with item images sources as follows:\n",
        "\n",
        "> itemsList[] = [ {\n",
        "  <br/> id: string\n",
        "  <br/> name: string\n",
        "  <br/> urls: string[]\n",
        "  <br/> imgSrcs: string[]\n",
        "<br/> } ]\n",
        "\n"
      ],
      "metadata": {
        "id": "yFd4ffZpwfp1"
      }
    },
    {
      "cell_type": "code",
      "source": [
        "for item in itemsList:\n",
        "  item['imgSrcs'] = getItemsImagesSrcList(item['urls'])\n",
        "  # wait 10 seconds to not to block the requests by ebay \n",
        "  time.sleep(10)\n",
        "\n",
        "print(itemsList)"
      ],
      "metadata": {
        "id": "uNmm__Go3gXF"
      },
      "execution_count": null,
      "outputs": []
    },
    {
      "cell_type": "markdown",
      "source": [
        "3.4 Change directory to save the itemsList (optional)"
      ],
      "metadata": {
        "id": "IQvPiGBmxYYO"
      }
    },
    {
      "cell_type": "code",
      "metadata": {
        "id": "Z_adFxIgSDzW"
      },
      "source": [
        "os.chdir('/content/drive/MyDrive/DATA/furnitureImages/100-furniture')\n",
        "!pwd"
      ],
      "execution_count": null,
      "outputs": []
    },
    {
      "cell_type": "markdown",
      "metadata": {
        "id": "iDHyiPtVkTIw"
      },
      "source": [
        "3.5 Save the list of IKEA Products to JSON file (optional)"
      ]
    },
    {
      "cell_type": "code",
      "source": [
        "# save the itemslist to JSON file\n",
        "with open('ebayItemsList.json', 'w', encoding='utf-8') as outfile:\n",
        "    json.dump(itemsList, outfile, ensure_ascii=False)"
      ],
      "metadata": {
        "id": "5nWQX0byv327"
      },
      "execution_count": null,
      "outputs": []
    },
    {
      "cell_type": "markdown",
      "source": [
        "3.5 Set your train ditrectory to save download images "
      ],
      "metadata": {
        "id": "YzxRalxs0iuR"
      }
    },
    {
      "cell_type": "code",
      "source": [
        "os.chdir('/content/drive/MyDrive/DATA/furnitureImages/100-furniture/train')\n",
        "!pwd"
      ],
      "metadata": {
        "id": "kA7VJk-u21d3"
      },
      "execution_count": null,
      "outputs": []
    },
    {
      "cell_type": "markdown",
      "source": [
        "3.6 Scrape images to selected directory and create list of labels"
      ],
      "metadata": {
        "id": "xUlyy2LU1Bsr"
      }
    },
    {
      "cell_type": "code",
      "source": [
        "# list for images labels\n",
        "ebayImagesList = []\n",
        "\n",
        "for item in itemsList:\n",
        "  # some symbols cannot be saved to the name of file, make sure they are replaced\n",
        "  name = item['name'].replace('/', '_')\n",
        "  id = item['id']\n",
        "\n",
        "  for index, src in enumerate(item['imgSrcs']):\n",
        "    fileName = str(index) + '_' + id + '_' + name + '_' + 'ebay' +'.jpg'\n",
        "    ebayImagesList.append({'title': fileName, 'name':name})\n",
        "\n",
        "    with open(fileName, 'wb') as f:\n",
        "      im = requests.get(src, headers)\n",
        "      f.write(im.content)\n",
        "      f.close()\n",
        "      print('Writing: ', fileName)\n",
        "print(ebayImagesList)"
      ],
      "metadata": {
        "id": "2Oa6i-KRy9e6"
      },
      "execution_count": null,
      "outputs": []
    },
    {
      "cell_type": "markdown",
      "source": [
        "3.7 Save list of labels to JSON file. Important for AI Model training"
      ],
      "metadata": {
        "id": "LS96sJxQ23nx"
      }
    },
    {
      "cell_type": "code",
      "source": [
        "# change directory for the labels list\n",
        "os.chdir('/content/drive/MyDrive/DATA/furnitureImages/100-furniture/')\n",
        "!pwd\n",
        "# save the ebayImagesList to JSON file\n",
        "with open('ebayImagesList.json', 'w', encoding='utf-8') as outfile:\n",
        "    json.dump(ebayImagesList, outfile, ensure_ascii=False)"
      ],
      "metadata": {
        "id": "tKeTBgSzEOM-"
      },
      "execution_count": null,
      "outputs": []
    }
  ]
}